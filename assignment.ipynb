{
 "cells": [
  {
   "cell_type": "code",
   "execution_count": 1,
   "metadata": {},
   "outputs": [
    {
     "name": "stdout",
     "output_type": "stream",
     "text": [
      "[20, 40, 60, 80, -2, 100, -4, -10]\n",
      "[20, 40, 60, 80, 100]\n"
     ]
    }
   ],
   "source": [
    "# Q1 [A]\n",
    "L = [10, 20, 30, 40, -1, 50, -2, -5]\n",
    "L1 = [x * 2 for x in L]\n",
    "print(L1)\n",
    "\n",
    "# [B]\n",
    "L2 = [x * 2 for x in L if x > 0]\n",
    "print(L2)"
   ]
  },
  {
   "cell_type": "code",
   "execution_count": 2,
   "metadata": {},
   "outputs": [
    {
     "name": "stdout",
     "output_type": "stream",
     "text": [
      "48\n"
     ]
    }
   ],
   "source": [
    "# Q2\n",
    "multiply = lambda x, y: x * y\n",
    "\n",
    "result = multiply(6, 8)\n",
    "print(result)"
   ]
  },
  {
   "cell_type": "code",
   "execution_count": 3,
   "metadata": {},
   "outputs": [
    {
     "name": "stdout",
     "output_type": "stream",
     "text": [
      "20\n",
      "50\n"
     ]
    }
   ],
   "source": [
    "# Q3 [A]\n",
    "def FindMax(a, b):\n",
    "    return max(a, b)\n",
    "\n",
    "result = FindMax(10, 20)\n",
    "print(result)\n",
    "\n",
    "# [B]\n",
    "L = [10, 20, 30, 40, -1, 50, -2, -5]\n",
    "\n",
    "maximum = max(map(lambda x: FindMax(x, 0), L))\n",
    "print(maximum)\n"
   ]
  },
  {
   "cell_type": "code",
   "execution_count": 4,
   "metadata": {},
   "outputs": [
    {
     "name": "stdout",
     "output_type": "stream",
     "text": [
      "True\n",
      "False\n",
      "[10, 20, 30, 40, 50]\n"
     ]
    }
   ],
   "source": [
    "# Q4 [A]\n",
    "def isPositive(a):\n",
    "    if a > 0:\n",
    "        return True\n",
    "    else:\n",
    "        return False\n",
    "\n",
    "result = isPositive(1)\n",
    "print(result)\n",
    "\n",
    "result = isPositive(-1)\n",
    "print(result)\n",
    "\n",
    "# [B]\n",
    "L = [10, 20, 30, 40, -1, 50, -2, -5]\n",
    "positive_numbers = list(filter(isPositive, L))\n",
    "print(positive_numbers)\n"
   ]
  },
  {
   "cell_type": "code",
   "execution_count": 5,
   "metadata": {},
   "outputs": [
    {
     "name": "stdout",
     "output_type": "stream",
     "text": [
      "8\n",
      "-120000000\n"
     ]
    }
   ],
   "source": [
    "# Q5 [A]\n",
    "def MUL(a, b):\n",
    "    return a*b\n",
    "\n",
    "result = MUL(2, 4)\n",
    "print(result)\n",
    "\n",
    "# [B]\n",
    "from functools import reduce\n",
    "\n",
    "result = reduce(MUL, L)\n",
    "print(result)"
   ]
  },
  {
   "cell_type": "code",
   "execution_count": 6,
   "metadata": {},
   "outputs": [
    {
     "name": "stdout",
     "output_type": "stream",
     "text": [
      "24\n"
     ]
    }
   ],
   "source": [
    "# Level-2 Q1\n",
    "def calFactorial(n):\n",
    "    if n < 0:\n",
    "        error = \"Factorial is not defined for negative numbers.\"\n",
    "        return error\n",
    "    elif n == 0 or n == 1:\n",
    "        return 1\n",
    "    else:\n",
    "        factorial = 1\n",
    "        for i in range(2, n + 1):\n",
    "            factorial *= i\n",
    "        return factorial\n",
    "\n",
    "result = calFactorial(4)\n",
    "print(result)"
   ]
  },
  {
   "cell_type": "code",
   "execution_count": 7,
   "metadata": {},
   "outputs": [
    {
     "name": "stdout",
     "output_type": "stream",
     "text": [
      "Namaskar\n",
      "Namaskar\n",
      "Hello\n",
      "Error: Wrong language\n"
     ]
    }
   ],
   "source": [
    "# Q2\n",
    "def Greet(language):\n",
    "    if language == 'Hindi':\n",
    "        print('Namaskar')\n",
    "    elif language == 'English':\n",
    "        print('Hello')\n",
    "    else:\n",
    "        print('Error: Wrong language')\n",
    "\n",
    "language = input(\"Enter the language: \")\n",
    "Greet(language)\n",
    "Greet('Hindi')\n",
    "Greet('English')\n",
    "Greet('Japanese')"
   ]
  },
  {
   "cell_type": "code",
   "execution_count": 4,
   "metadata": {},
   "outputs": [
    {
     "name": "stdout",
     "output_type": "stream",
     "text": [
      "(11.0, -1.0, 30.0, 0.8333333333333334)\n"
     ]
    }
   ],
   "source": [
    "# Q3\n",
    "def Calculator(in1, in2=0):\n",
    "    in1 = float(in1)\n",
    "    in2 = float(in2)\n",
    "    add = in1 + in2\n",
    "    sub = in1 - in2\n",
    "    mult = in1 * in2\n",
    "\n",
    "    if in2 != 0:\n",
    "        div = in1 / in2\n",
    "    else:\n",
    "        div = \"Undefined\"\n",
    "\n",
    "    return add, sub, mult, div\n",
    "\n",
    "num1 = input(\"Enter the first number: \")\n",
    "num2 = input(\"Enter the second number: \")\n",
    "\n",
    "if num2:\n",
    "    result = Calculator(num1, num2)\n",
    "else:\n",
    "    result = Calculator(num1)\n",
    "print(result)"
   ]
  },
  {
   "cell_type": "code",
   "execution_count": 26,
   "metadata": {},
   "outputs": [
    {
     "name": "stdout",
     "output_type": "stream",
     "text": [
      "200\n"
     ]
    }
   ],
   "source": [
    "# Q4\n",
    "def proc(x):\n",
    "    x = 2*x*x\n",
    "    return x\n",
    "\n",
    "def main():\n",
    "    num = 10\n",
    "    y = proc(num)\n",
    "    print(y)\n",
    "\n",
    "main()"
   ]
  },
  {
   "cell_type": "code",
   "execution_count": 18,
   "metadata": {},
   "outputs": [
    {
     "name": "stdout",
     "output_type": "stream",
     "text": [
      "[7, 9, 11, 13, 15]\n"
     ]
    }
   ],
   "source": [
    "# Q5\n",
    "def AddList(L1, L2):\n",
    "    L3 = []\n",
    "    for i in range(len(L1)):\n",
    "        L3.append(L1[i] + L2[i])\n",
    "    return L3\n",
    "\n",
    "L1 = [1, 2, 3, 4, 5]\n",
    "L2 = [6, 7, 8, 9, 10]\n",
    "\n",
    "result = AddList(L1, L2)\n",
    "print(result)"
   ]
  },
  {
   "cell_type": "code",
   "execution_count": 19,
   "metadata": {},
   "outputs": [
    {
     "name": "stdout",
     "output_type": "stream",
     "text": [
      "10\n",
      "14\n",
      "57\n",
      "7\n"
     ]
    }
   ],
   "source": [
    "# Q6\n",
    "def print_big_enough(L, x):\n",
    "    for num in L:\n",
    "        if num >= x:\n",
    "            print(num)\n",
    "\n",
    "L = [5, 6, 10, 14, 57, 7]\n",
    "x = 7\n",
    "\n",
    "print_big_enough(L, x)"
   ]
  }
 ],
 "metadata": {
  "kernelspec": {
   "display_name": "Python 3",
   "language": "python",
   "name": "python3"
  },
  "language_info": {
   "codemirror_mode": {
    "name": "ipython",
    "version": 3
   },
   "file_extension": ".py",
   "mimetype": "text/x-python",
   "name": "python",
   "nbconvert_exporter": "python",
   "pygments_lexer": "ipython3",
   "version": "3.11.3"
  },
  "orig_nbformat": 4
 },
 "nbformat": 4,
 "nbformat_minor": 2
}
